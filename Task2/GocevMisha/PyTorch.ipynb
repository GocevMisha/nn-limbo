{
  "nbformat": 4,
  "nbformat_minor": 0,
  "metadata": {
    "kernelspec": {
      "display_name": "Python 3",
      "language": "python",
      "name": "python3"
    },
    "language_info": {
      "codemirror_mode": {
        "name": "ipython",
        "version": 3
      },
      "file_extension": ".py",
      "mimetype": "text/x-python",
      "name": "python",
      "nbconvert_exporter": "python",
      "pygments_lexer": "ipython3",
      "version": "3.7.0"
    },
    "colab": {
      "name": "PyTorch.ipynb",
      "provenance": [],
      "collapsed_sections": []
    }
  },
  "cells": [
    {
      "cell_type": "markdown",
      "metadata": {
        "id": "3p59u8wa9q2C",
        "colab_type": "text"
      },
      "source": [
        "# Задание 2.2 - Введение в PyTorch\n",
        "\n",
        "Для этого задания потребуется установить версию PyTorch 1.0\n",
        "\n",
        "https://pytorch.org/get-started/locally/\n",
        "\n",
        "В этом задании мы познакомимся с основными компонентами PyTorch и натренируем несколько небольших моделей.<br>\n",
        "GPU нам пока не понадобится.\n",
        "\n",
        "Основные ссылки:  \n",
        "https://pytorch.org/tutorials/beginner/deep_learning_60min_blitz.html  \n",
        "https://pytorch.org/docs/stable/nn.html  \n",
        "https://pytorch.org/docs/stable/torchvision/index.html  "
      ]
    },
    {
      "cell_type": "code",
      "metadata": {
        "scrolled": false,
        "id": "EBiXUMxQ9q2E",
        "colab_type": "code",
        "colab": {}
      },
      "source": [
        "\n",
        "import torch\n",
        "import torch.nn as nn\n",
        "import torch.optim as optim\n",
        "import torchvision.datasets as dset\n",
        "from torch.utils.data.sampler import SubsetRandomSampler, Sampler\n",
        "\n",
        "from torchvision import transforms\n",
        "\n",
        "import matplotlib.pyplot as plt\n",
        "%matplotlib inline\n",
        "\n",
        "import numpy as np"
      ],
      "execution_count": 0,
      "outputs": []
    },
    {
      "cell_type": "code",
      "metadata": {
        "id": "bc8e-6Fi9q2J",
        "colab_type": "code",
        "colab": {}
      },
      "source": [
        ""
      ],
      "execution_count": 0,
      "outputs": []
    },
    {
      "cell_type": "markdown",
      "metadata": {
        "id": "SZ5iaVvc9q2M",
        "colab_type": "text"
      },
      "source": [
        "## Как всегда, начинаем с загрузки данных\n",
        "\n",
        "PyTorch поддерживает загрузку SVHN из коробки."
      ]
    },
    {
      "cell_type": "code",
      "metadata": {
        "scrolled": true,
        "id": "J0VNcGWV9q2N",
        "colab_type": "code",
        "colab": {}
      },
      "source": [
        "# First, lets load the dataset\n",
        "data_train = dset.SVHN('./data/', split='train',\n",
        "                       transform=transforms.Compose([\n",
        "                           transforms.ToTensor(),\n",
        "                           transforms.Normalize(mean=[0.43,0.44,0.47],\n",
        "                                               std=[0.20,0.20,0.20])                           \n",
        "                       ])\n",
        "                      )\n",
        "data_test = dset.SVHN('./data/', split='test', \n",
        "                      transform=transforms.Compose([\n",
        "                           transforms.ToTensor(),\n",
        "                           transforms.Normalize(mean=[0.43,0.44,0.47],\n",
        "                                               std=[0.20,0.20,0.20])                           \n",
        "                       ]))"
      ],
      "execution_count": 0,
      "outputs": []
    },
    {
      "cell_type": "markdown",
      "metadata": {
        "id": "D3jS75xg9q2Q",
        "colab_type": "text"
      },
      "source": [
        "Теперь мы разделим данные на training и validation с использованием классов `SubsetRandomSampler` и `DataLoader`.\n",
        "\n",
        "`DataLoader` подгружает данные, предоставляемые классом `Dataset`, во время тренировки и группирует их в батчи.\n",
        "Он дает возможность указать `Sampler`, который выбирает, какие примеры из датасета использовать для тренировки. Мы используем это, чтобы разделить данные на training и validation.\n",
        "\n",
        "Подробнее: https://pytorch.org/tutorials/beginner/data_loading_tutorial.html"
      ]
    },
    {
      "cell_type": "code",
      "metadata": {
        "scrolled": true,
        "id": "u7R_Nxuc9q2R",
        "colab_type": "code",
        "colab": {}
      },
      "source": [
        "batch_size = 64\n",
        "\n",
        "data_size = data_train.data.shape[0]\n",
        "validation_split = .2\n",
        "split = int(np.floor(validation_split * data_size))\n",
        "indices = list(range(data_size))\n",
        "np.random.shuffle(indices)\n",
        "\n",
        "train_indices, val_indices = indices[split:], indices[:split]\n",
        "\n",
        "train_sampler = SubsetRandomSampler(train_indices)\n",
        "val_sampler = SubsetRandomSampler(val_indices)\n",
        "\n",
        "train_loader = torch.utils.data.DataLoader(data_train, batch_size=batch_size, \n",
        "                                           sampler=train_sampler)\n",
        "val_loader = torch.utils.data.DataLoader(data_train, batch_size=batch_size,\n",
        "                                         sampler=val_sampler)"
      ],
      "execution_count": 0,
      "outputs": []
    },
    {
      "cell_type": "markdown",
      "metadata": {
        "id": "gFM-DKzU9q2U",
        "colab_type": "text"
      },
      "source": [
        "В нашей задаче мы получаем на вход изображения, но работаем с ними как с одномерными массивами. Чтобы превратить многомерный массив в одномерный, мы воспользуемся очень простым вспомогательным модулем `Flattener`."
      ]
    },
    {
      "cell_type": "code",
      "metadata": {
        "scrolled": true,
        "id": "KU6489L69q2W",
        "colab_type": "code",
        "colab": {}
      },
      "source": [
        "sample, label = data_train[0]\n",
        "print(\"SVHN data sample shape: \", sample.shape)\n",
        "# As you can see, the data is shaped like an image\n",
        "\n",
        "# We'll use a special helper module to shape it into a tensor\n",
        "class Flattener(nn.Module):\n",
        "    def forward(self, x):\n",
        "        batch_size, *_ = x.shape\n",
        "        return x.view(batch_size, -1)"
      ],
      "execution_count": 0,
      "outputs": []
    },
    {
      "cell_type": "markdown",
      "metadata": {
        "id": "BCMv9Pn69q2a",
        "colab_type": "text"
      },
      "source": [
        "И наконец, мы создаем основные объекты PyTorch:\n",
        "- `nn_model` - собственно, модель с нейросетью\n",
        "- `loss` - функцию ошибки, в нашем случае `CrossEntropyLoss`\n",
        "- `optimizer` - алгоритм оптимизации, в нашем случае просто `SGD`"
      ]
    },
    {
      "cell_type": "code",
      "metadata": {
        "scrolled": true,
        "id": "OepKsi319q2b",
        "colab_type": "code",
        "colab": {}
      },
      "source": [
        "nn_model = nn.Sequential(\n",
        "            Flattener(),\n",
        "            nn.Linear(3*32*32, 100),\n",
        "            nn.ReLU(inplace=True),\n",
        "            nn.Linear(100, 10), \n",
        "         )\n",
        "nn_model.type(torch.FloatTensor)\n",
        "\n",
        "# We will minimize cross-entropy between the ground truth and\n",
        "# network predictions using an SGD optimizer\n",
        "loss = nn.CrossEntropyLoss().type(torch.FloatTensor)\n",
        "optimizer = optim.SGD(nn_model.parameters(), lr=1e-2, weight_decay=1e-1)"
      ],
      "execution_count": 0,
      "outputs": []
    },
    {
      "cell_type": "markdown",
      "metadata": {
        "id": "A2nFlJAC9q2f",
        "colab_type": "text"
      },
      "source": [
        "## Тренируем!\n",
        "\n",
        "Ниже приведена функция `train_model`, реализующая основной цикл тренировки PyTorch.\n",
        "\n",
        "Каждую эпоху эта функция вызывает функцию `compute_accuracy`, которая вычисляет точность на validation, эту последнюю функцию предлагается реализовать вам."
      ]
    },
    {
      "cell_type": "code",
      "metadata": {
        "scrolled": true,
        "id": "xkpb3Bb-9q2g",
        "colab_type": "code",
        "colab": {}
      },
      "source": [
        "# This is how to implement the same main train loop in PyTorch. Pretty easy, right?\n",
        "def train_model(model, train_loader, val_loader, loss, optimizer, num_epochs):    \n",
        "    loss_history = []\n",
        "    train_history = []\n",
        "    val_history = []\n",
        "    for epoch in range(num_epochs):\n",
        "        model.train() # Enter train mode\n",
        "        \n",
        "        loss_accum = 0\n",
        "        correct_samples = 0\n",
        "        total_samples = 0\n",
        "        for i_step, (x, y) in enumerate(train_loader):\n",
        "            prediction = model(x)    \n",
        "            loss_value = loss(prediction, y)\n",
        "            optimizer.zero_grad()\n",
        "            loss_value.backward()\n",
        "            optimizer.step()\n",
        "            \n",
        "            _, indices = torch.max(prediction, 1)\n",
        "            correct_samples += torch.sum(indices == y)\n",
        "            total_samples += y.shape[0]\n",
        "            \n",
        "            loss_accum += loss_value\n",
        "\n",
        "        ave_loss = loss_accum / (i_step + 1)\n",
        "        train_accuracy = float(correct_samples) / total_samples\n",
        "        val_accuracy = compute_accuracy(model, val_loader)\n",
        "        \n",
        "        loss_history.append(float(ave_loss))\n",
        "        train_history.append(train_accuracy)\n",
        "        val_history.append(val_accuracy)\n",
        "        \n",
        "        print(\"Average loss: %f, Train accuracy: %f, Val accuracy: %f\" % (ave_loss, train_accuracy, val_accuracy))\n",
        "        \n",
        "    return loss_history, train_history, val_history\n",
        "        \n",
        "def compute_accuracy(model, loader):\n",
        "    \"\"\"\n",
        "    Computes accuracy on the dataset wrapped in a loader\n",
        "    \n",
        "    Returns: accuracy as a float value between 0 and 1\n",
        "    \"\"\"\n",
        "    model.eval() # Evaluation mode\n",
        "    # TODO: Implement the inference of the model on all of the batches from loader,\n",
        "    #       and compute the overall accuracy.\n",
        "    # Hint: PyTorch has the argmax function!\n",
        "    val_accuracy = 0\n",
        "    correct = 0\n",
        "    total = 0\n",
        "    for i_step, (x, y) in enumerate(loader):\n",
        "        pred = nn_model(x)\n",
        "        \n",
        "        _, indices = torch.max(pred, 1)\n",
        "        correct += torch.sum(indices == y)\n",
        "        total += y.shape[0]\n",
        "        \n",
        "        val_accuracy = float(correct)/total\n",
        "    \n",
        "    return val_accuracy\n",
        "\n",
        "\n",
        "loss_history, train_history, val_history = train_model(nn_model, train_loader, val_loader, loss, optimizer, 3)"
      ],
      "execution_count": 0,
      "outputs": []
    },
    {
      "cell_type": "markdown",
      "metadata": {
        "id": "ZTIaCx2B9q2j",
        "colab_type": "text"
      },
      "source": [
        "## После основного цикла\n",
        "\n",
        "Посмотрим на другие возможности и оптимизации, которые предоставляет PyTorch.\n",
        "\n",
        "Добавьте еще один скрытый слой размера 100 нейронов к модели"
      ]
    },
    {
      "cell_type": "code",
      "metadata": {
        "scrolled": true,
        "id": "wZn-4nc09q2k",
        "colab_type": "code",
        "colab": {}
      },
      "source": [
        "# Since it's so easy to add layers, let's add some!\n",
        "\n",
        "# TODO: Implement a model with 2 hidden layers of the size 100\n",
        "nn_model = nn.Sequential(Flattener(),\n",
        "                         nn.Linear(3*32*32, 100),\n",
        "                         nn.ReLU(inplace=True),\n",
        "                         nn.Linear(100, 100),\n",
        "                         nn.ReLU(inplace=True),\n",
        "                         nn.Linear(100, 10))\n",
        "nn_model.type(torch.FloatTensor)\n",
        "optimizer = optim.SGD(nn_model.parameters(), lr=1e-2, weight_decay=1e-1)\n",
        "loss_history, train_history, val_history = train_model(nn_model, train_loader, val_loader, loss, optimizer, 5)"
      ],
      "execution_count": 0,
      "outputs": []
    },
    {
      "cell_type": "markdown",
      "metadata": {
        "id": "iSOpG-zB9q2o",
        "colab_type": "text"
      },
      "source": [
        "Добавьте слой с Batch Normalization"
      ]
    },
    {
      "cell_type": "code",
      "metadata": {
        "scrolled": true,
        "id": "xeZzkogf9q2p",
        "colab_type": "code",
        "colab": {}
      },
      "source": [
        "# We heard batch normalization is powerful, let's use it!\n",
        "# TODO: Add batch normalization after each of the hidden layers of the network, before or after non-linearity\n",
        "# Hint: check out torch.nn.BatchNorm1d\n",
        "\n",
        "nn_model = nn.Sequential(Flattener(),\n",
        "                         nn.Linear(3*32*32, 100),\n",
        "                         nn.BatchNorm1d(100),\n",
        "                         nn.ReLU(inplace = True),\n",
        "                         nn.Linear(100, 100),\n",
        "                         nn.BatchNorm1d(100),\n",
        "                         nn.ReLU(inplace = True),\n",
        "                         nn.Linear(100, 10))\n",
        "nn_model.type(torch.FloatTensor)\n",
        "optimizer = optim.SGD(nn_model.parameters(), lr=1e-3, weight_decay=1e-1)\n",
        "loss_history, train_history, val_history = train_model(nn_model, train_loader, val_loader, loss, optimizer, 5)"
      ],
      "execution_count": 0,
      "outputs": []
    },
    {
      "cell_type": "markdown",
      "metadata": {
        "id": "2d7iv1Uo9q2s",
        "colab_type": "text"
      },
      "source": [
        "Добавьте уменьшение скорости обучения по ходу тренировки."
      ]
    },
    {
      "cell_type": "code",
      "metadata": {
        "id": "7OzHVyxyAetG",
        "colab_type": "code",
        "colab": {}
      },
      "source": [
        "def train_model_parametrized(model, train_loader, val_loader, \n",
        "                             loss, optimizer, num_epochs, \n",
        "                             step_size_shed, gam_shed): \n",
        "    sheduler = optim.lr_scheduler.StepLR(optimizer, step_size = step_size_shed, gamma = gam_shed)\n",
        "    loss_history = []\n",
        "    train_history = []\n",
        "    val_history = []\n",
        "    for epoch in range(num_epochs):\n",
        "        model.train() # Enter train mode\n",
        "        loss_accum = 0\n",
        "        correct_samples = 0\n",
        "        total_samples = 0\n",
        "        sheduler.step()\n",
        "        for i_step, (x, y) in enumerate(train_loader):\n",
        "            prediction = nn_model(x)    \n",
        "            loss_value = loss(prediction, y)\n",
        "            optimizer.zero_grad()\n",
        "            loss_value.backward()\n",
        "            optimizer.step()\n",
        "            _, indices = torch.max(prediction, 1)\n",
        "            correct_samples += torch.sum(indices == y)\n",
        "            total_samples += y.shape[0]\n",
        "            loss_accum += loss_value\n",
        "        ave_loss = loss_accum / i_step\n",
        "        train_accuracy = float(correct_samples) / total_samples\n",
        "        val_accuracy = compute_accuracy(model, val_loader)\n",
        "        loss_history.append(float(ave_loss))\n",
        "        train_history.append(train_accuracy)\n",
        "        val_history.append(val_accuracy)\n",
        "    return loss_history, train_history, val_history"
      ],
      "execution_count": 0,
      "outputs": []
    },
    {
      "cell_type": "code",
      "metadata": {
        "scrolled": true,
        "id": "l5Gk-qkx9q2u",
        "colab_type": "code",
        "colab": {}
      },
      "source": [
        "# Learning rate annealing\n",
        "# Reduce your learning rate 2x every 2 epochs\n",
        "# Hint: look up learning rate schedulers in PyTorch. You might need to extend train_model function a little bit too!\n",
        "\n",
        "nn_model = nn.Sequential(Flattener(),\n",
        "                          nn.Linear(3*32*32, 100),\n",
        "                          nn.BatchNorm1d(100),\n",
        "                          nn.ReLU(inplace = True),\n",
        "                          nn.Linear(100, 100),\n",
        "                          nn.BatchNorm1d(100),\n",
        "                          nn.ReLU(inplace = True),\n",
        "                          nn.Linear(100, 10))\n",
        "nn_model.type(torch.FloatTensor)\n",
        "optimizer = optim.SGD(nn_model.parameters(), lr=2e-2, weight_decay=1e-1)\n",
        "loss_history, train_history, val_history = train_model_parametrized(nn_model, train_loader, val_loader,loss, optimizer, 15, 2, 0.5)"
      ],
      "execution_count": 0,
      "outputs": []
    },
    {
      "cell_type": "markdown",
      "metadata": {
        "id": "vnmLg3gb9q2x",
        "colab_type": "text"
      },
      "source": [
        "# Визуализируем ошибки модели\n",
        "\n",
        "Попробуем посмотреть, на каких изображениях наша модель ошибается.\n",
        "Для этого мы получим все предсказания модели на validation set и сравним их с истинными метками (ground truth).\n",
        "\n",
        "Первая часть - реализовать код на PyTorch, который вычисляет все предсказания модели на validation set.  \n",
        "Чтобы это сделать мы приводим код `SubsetSampler`, который просто проходит по всем заданным индексам последовательно и составляет из них батчи. \n",
        "\n",
        "Реализуйте функцию `evaluate_model`, которая прогоняет модель через все сэмплы validation set и запоминает предсказания модели и истинные метки."
      ]
    },
    {
      "cell_type": "code",
      "metadata": {
        "id": "5ekDlHPm9q2y",
        "colab_type": "code",
        "colab": {}
      },
      "source": [
        "class SubsetSampler(Sampler):\n",
        "    r\"\"\"Samples elements with given indices sequentially\n",
        "\n",
        "    Arguments:\n",
        "        indices (ndarray): indices of the samples to take\n",
        "    \"\"\"\n",
        "\n",
        "    def __init__(self, indices):\n",
        "        self.indices = indices\n",
        "\n",
        "    def __iter__(self):\n",
        "        return (self.indices[i] for i in range(len(self.indices)))\n",
        "\n",
        "    def __len__(self):\n",
        "        return len(self.indices)\n",
        "    \n",
        "    \n",
        "def evaluate_model(model, dataset, indices):\n",
        "    \"\"\"\n",
        "    Computes predictions and ground truth labels for the indices of the dataset\n",
        "    \n",
        "    Returns: \n",
        "    predictions: np array of ints - model predictions\n",
        "    grount_truth: np array of ints - actual labels of the dataset\n",
        "    \"\"\"\n",
        "    model.eval() # Evaluation mode\n",
        "    loader = torch.utils.data.DataLoader(dataset, sampler=SubsetSampler(indices))\n",
        "    predictions = []\n",
        "    ground_truth = []\n",
        "    for i_step, (x, y) in enumerate(loader):\n",
        "        pred = model(x)\n",
        "        _, indices = torch.max(pred, 1)\n",
        "        predictions.append(int(indices))\n",
        "        ground_truth.append(int(y))\n",
        "    # TODO: Evaluate model on the list of indices and capture predictions\n",
        "    # and ground truth labels\n",
        "    # Hint: SubsetSampler above could be useful!\n",
        "    \n",
        "    return  np.array(predictions), np.array(ground_truth)\n",
        "\n",
        "# Evaluate model on validation\n",
        "predictions, gt = evaluate_model(nn_model, data_train, val_indices)\n",
        "assert len(predictions) == len(val_indices)\n",
        "assert len(gt) == len(val_indices)\n",
        "assert gt[100] == data_train[val_indices[100]][1]\n",
        "assert np.any(np.not_equal(gt, predictions))"
      ],
      "execution_count": 0,
      "outputs": []
    },
    {
      "cell_type": "markdown",
      "metadata": {
        "id": "cXBJA_So9q20",
        "colab_type": "text"
      },
      "source": [
        "## Confusion matrix\n",
        "Первая часть визуализации - вывести confusion matrix (https://en.wikipedia.org/wiki/Confusion_matrix ).\n",
        "\n",
        "Confusion matrix - это матрица, где каждой строке соответствуют классы предсказанный, а столбцу - классы истинных меток (ground truth). Число с координатами `i,j` - это количество сэмплов класса `j`, которые модель считает классом `i`.\n",
        "\n",
        "![image.png](attachment:image.png)\n",
        "\n",
        "Для того, чтобы облегчить вам задачу, ниже реализована функция `visualize_confusion_matrix` которая визуализирует такую матрицу.  \n",
        "Вам осталось реализовать функцию `build_confusion_matrix`, которая ее вычислит.\n",
        "\n",
        "Результатом должна быть матрица 10x10."
      ]
    },
    {
      "cell_type": "code",
      "metadata": {
        "id": "1s1aF9fh9q21",
        "colab_type": "code",
        "colab": {}
      },
      "source": [
        "def visualize_confusion_matrix(confusion_matrix):\n",
        "    \"\"\"\n",
        "    Visualizes confusion matrix\n",
        "    \n",
        "    confusion_matrix: np array of ints, x axis - predicted class, y axis - actual class\n",
        "                      [i][j] should have the count of samples that were predicted to be class i,\n",
        "                      but have j in the ground truth\n",
        "                     \n",
        "    \"\"\"\n",
        "    # Adapted from \n",
        "    # https://stackoverflow.com/questions/2897826/confusion-matrix-with-number-of-classified-misclassified-instances-on-it-python\n",
        "    assert confusion_matrix.shape[0] == confusion_matrix.shape[1]\n",
        "    size = confusion_matrix.shape[0]\n",
        "    fig = plt.figure(figsize=(10,10))\n",
        "    plt.title(\"Confusion matrix\")\n",
        "    plt.ylabel(\"predicted\")\n",
        "    plt.xlabel(\"ground truth\")\n",
        "    res = plt.imshow(confusion_matrix, cmap='GnBu', interpolation='nearest')\n",
        "    cb = fig.colorbar(res)\n",
        "    plt.xticks(np.arange(size))\n",
        "    plt.yticks(np.arange(size))\n",
        "    for i, row in enumerate(confusion_matrix):\n",
        "        for j, count in enumerate(row):\n",
        "            plt.text(j, i, count, fontsize=14, horizontalalignment='center', verticalalignment='center')\n",
        "    \n",
        "def build_confusion_matrix(predictions, ground_truth):\n",
        "    \"\"\"\n",
        "    Builds confusion matrix from predictions and ground truth\n",
        "\n",
        "    predictions: np array of ints, model predictions for all validation samples\n",
        "    ground_truth: np array of ints, ground truth for all validation samples\n",
        "    \n",
        "    Returns:\n",
        "    np array of ints, (10,10), counts of samples for predicted/ground_truth classes\n",
        "    \"\"\"\n",
        "    \n",
        "    confusion_matrix = np.zeros((10,10), np.int)\n",
        "    # TODO: Implement filling the prediction matrix\n",
        "    for i in range(len(predictions)):\n",
        "        confusion_matrix[ground_truth[i]][predictions[i]] += 1\n",
        "    return confusion_matrix\n",
        "\n",
        "confusion_matrix = build_confusion_matrix(predictions, gt)\n",
        "visualize_confusion_matrix(confusion_matrix)"
      ],
      "execution_count": 0,
      "outputs": []
    },
    {
      "cell_type": "markdown",
      "metadata": {
        "id": "6KXjacyY9q26",
        "colab_type": "text"
      },
      "source": [
        "Наконец, посмотрим на изображения, соответствующие некоторым элементам этой матрицы.\n",
        "\n",
        "Как и раньше, вам дана функция `visualize_images`, которой нужно воспрользоваться при реализации функции `visualize_predicted_actual`. Эта функция должна вывести несколько примеров, соответствующих заданному элементу матрицы.\n",
        "\n",
        "Визуализируйте наиболее частые ошибки и попробуйте понять, почему модель их совершает."
      ]
    },
    {
      "cell_type": "code",
      "metadata": {
        "id": "k6SV54Hp9q27",
        "colab_type": "code",
        "colab": {}
      },
      "source": [
        "data_train_images = dset.SVHN('./data/', split='train')\n",
        "\n",
        "def visualize_images(indices, data, title='', max_num=10):\n",
        "    \"\"\"\n",
        "    Visualizes several images from the dataset\n",
        " \n",
        "    indices: array of indices to visualize\n",
        "    data: torch Dataset with the images\n",
        "    title: string, title of the plot\n",
        "    max_num: int, max number of images to display\n",
        "    \"\"\"\n",
        "    to_show = min(len(indices), max_num)\n",
        "    fig = plt.figure(figsize=(10,1.5))\n",
        "    fig.suptitle(title)\n",
        "    for i, index in enumerate(indices[:to_show]):\n",
        "        plt.subplot(1,to_show, i+1)\n",
        "        plt.axis('off')\n",
        "        sample = data[index][0]\n",
        "        plt.imshow(sample)\n",
        "        \n",
        "def visualize_predicted_actual(predicted_class, gt_class, predictions, groud_truth, val_indices, data):\n",
        "    \"\"\"\n",
        "    Visualizes images of a ground truth class which were predicted as the other class \n",
        "    \n",
        "    predicted: int 0-9, index of the predicted class\n",
        "    gt_class: int 0-9, index of the ground truth class\n",
        "    predictions: np array of ints, model predictions for all validation samples\n",
        "    ground_truth: np array of ints, ground truth for all validation samples\n",
        "    val_indices: np array of ints, indices of validation samples\n",
        "    \"\"\"\n",
        "\n",
        "    # TODO: Implement visualization using visualize_images above\n",
        "    # predictions and ground_truth are provided for validation set only, defined by val_indices\n",
        "    # Hint: numpy index arrays might be helpful\n",
        "    # https://docs.scipy.org/doc/numpy/user/basics.indexing.html#index-arrays\n",
        "    # Please make the title meaningful!\n",
        "    indices = []\n",
        "    for i_index, (x, y) in enumerate(zip(predictions, groud_truth)):\n",
        "        if x == predicted_class and y == gt_class:\n",
        "            indices.append(val_indices[i_index])\n",
        "    visualize_images(indices, data, f'ground truth is {gt_class} ; prediction is {predicted_class}')\n",
        "    \n",
        "            \n",
        "\n",
        "visualize_predicted_actual(6, 8, predictions, gt, np.array(val_indices), data_train_images)\n",
        "visualize_predicted_actual(1, 7, predictions, gt, np.array(val_indices), data_train_images)"
      ],
      "execution_count": 0,
      "outputs": []
    },
    {
      "cell_type": "markdown",
      "metadata": {
        "id": "U_H4J651Fwuq",
        "colab_type": "text"
      },
      "source": [
        ""
      ]
    },
    {
      "cell_type": "markdown",
      "metadata": {
        "id": "sHq1Se__9q2-",
        "colab_type": "text"
      },
      "source": [
        "# Переходим к свободным упражнениям!\n",
        "\n",
        "Натренируйте модель как можно лучше - экспериментируйте сами!\n",
        "Что следует обязательно попробовать:\n",
        "- перебор гиперпараметров с помощью валидационной выборки\n",
        "- другие оптимизаторы вместо SGD\n",
        "- изменение количества слоев и их размеров\n",
        "- наличие Batch Normalization\n",
        "\n",
        "Но ограничиваться этим не стоит!\n",
        "\n",
        "Точность на тестовой выборке должна быть доведена до **80%**"
      ]
    },
    {
      "cell_type": "code",
      "metadata": {
        "scrolled": true,
        "id": "4jFIehKA9q2_",
        "colab_type": "code",
        "colab": {}
      },
      "source": [
        "# Experiment here!\n",
        "num_epochs = 30\n",
        "neurons_num = 120\n",
        "nn_model = nn.Sequential(Flattener(),\n",
        "                         nn.Linear(3*32*32, neurons_num),\n",
        "                         nn.BatchNorm1d(neurons_num),\n",
        "                         nn.ReLU(inplace = True),\n",
        "                         nn.Linear(neurons_num, neurons_num),\n",
        "                         nn.BatchNorm1d(neurons_num),\n",
        "                         nn.ReLU(inplace = True),\n",
        "                         nn.Linear(neurons_num, neurons_num),\n",
        "                         nn.BatchNorm1d(neurons_num),\n",
        "                         nn.ReLU(inplace = True),\n",
        "                         nn.Linear(neurons_num, 10))\n",
        "\n",
        "nn_model.type(torch.FloatTensor)\n",
        "optimizer = optim.Adam(nn_model.parameters(), lr=1e-3, weight_decay=1e-3)\n",
        "loss_history, train_history, val_history = train_model_parametrized(nn_model, train_loader, val_loader,loss, optimizer, num_epochs, 5, 0.5)\n",
        "predictions, gt = evaluate_model(nn_model, data_train, val_indices)\n",
        "confusion_matrix = build_confusion_matrix(predictions, gt)\n",
        "visualize_confusion_matrix(confusion_matrix)"
      ],
      "execution_count": 0,
      "outputs": []
    },
    {
      "cell_type": "code",
      "metadata": {
        "id": "G5XzV8gK9q3B",
        "colab_type": "code",
        "colab": {}
      },
      "source": [
        "# Как всегда, в конце проверяем на test set\n",
        "test_loader = torch.utils.data.DataLoader(data_test, batch_size=batch_size)\n",
        "test_accuracy = compute_accuracy(nn_model, test_loader)\n",
        "print(\"Test accuracy: %2.4f\" % test_accuracy)"
      ],
      "execution_count": 0,
      "outputs": []
    },
    {
      "cell_type": "code",
      "metadata": {
        "id": "ewXi1Tlz9q3D",
        "colab_type": "code",
        "colab": {}
      },
      "source": [
        ""
      ],
      "execution_count": 0,
      "outputs": []
    }
  ]
}